{
 "cells": [
  {
   "cell_type": "markdown",
   "metadata": {},
   "source": [
    "# 1. Genetic Algo. Feature-Selecting"
   ]
  },
  {
   "cell_type": "code",
   "execution_count": 6,
   "metadata": {},
   "outputs": [],
   "source": [
    "from sklearn.datasets import make_classification\n",
    "from sklearn.linear_model import LogisticRegression\n",
    "from sklearn.metrics import accuracy_score\n",
    "from sklearn.model_selection import train_test_split\n",
    "RANDOM_STATE = 73\n",
    "from genetic_feature_selection import GenA\n",
    "\n",
    "import warnings\n",
    "warnings.filterwarnings('ignore')"
   ]
  },
  {
   "cell_type": "markdown",
   "metadata": {},
   "source": [
    "Тест работы алгоритма."
   ]
  },
  {
   "cell_type": "code",
   "execution_count": 11,
   "metadata": {},
   "outputs": [],
   "source": [
    "!python -m doctest genetic_feature_selection.py"
   ]
  },
  {
   "cell_type": "code",
   "execution_count": 12,
   "metadata": {},
   "outputs": [
    {
     "data": {
      "text/plain": [
       "0.75"
      ]
     },
     "execution_count": 12,
     "metadata": {},
     "output_type": "execute_result"
    }
   ],
   "source": [
    "X, y = make_classification(\n",
    "    n_samples=1000, n_features=200, n_classes=2,\n",
    "    n_informative=10, n_redundant=1, n_repeated=2,\n",
    "    random_state=RANDOM_STATE\n",
    ")\n",
    "\n",
    "X_train, X_test, y_train, y_test = train_test_split(X, y, test_size=0.2, random_state=RANDOM_STATE)\n",
    "model = LogisticRegression(random_state=RANDOM_STATE)\n",
    "model.fit(X_train, y_train)\n",
    "model.score(X_test, y_test)"
   ]
  },
  {
   "cell_type": "code",
   "execution_count": 13,
   "metadata": {},
   "outputs": [
    {
     "data": {
      "text/plain": [
       "0.78"
      ]
     },
     "execution_count": 13,
     "metadata": {},
     "output_type": "execute_result"
    }
   ],
   "source": [
    "selector = GenA(\n",
    "    estimator=LogisticRegression, \n",
    "    metric=accuracy_score, \n",
    "    verbose=False, \n",
    "    population=20,\n",
    ")\n",
    "\n",
    "selector = selector.fit(X_train, y_train)\n",
    "selector.score(X_test, y_test)"
   ]
  },
  {
   "cell_type": "code",
   "execution_count": 14,
   "metadata": {},
   "outputs": [
    {
     "name": "stdout",
     "output_type": "stream",
     "text": [
      "Number of features before selecting: 200\n",
      "Number of features after selecting: 96\n"
     ]
    }
   ],
   "source": [
    "print(f\"Number of features before selecting: {X.shape[1]}\")\n",
    "print(f\"Number of features after selecting: {selector.n_features_}\")\n"
   ]
  },
  {
   "cell_type": "code",
   "execution_count": 15,
   "metadata": {},
   "outputs": [
    {
     "data": {
      "text/plain": [
       "(1000, 96)"
      ]
     },
     "execution_count": 15,
     "metadata": {},
     "output_type": "execute_result"
    }
   ],
   "source": [
    "selector.transform(X).shape"
   ]
  },
  {
   "cell_type": "markdown",
   "metadata": {},
   "source": [
    "# 2. RotationForest"
   ]
  },
  {
   "cell_type": "markdown",
   "metadata": {},
   "source": [
    "### 2.1 Тест модели"
   ]
  },
  {
   "cell_type": "code",
   "execution_count": 33,
   "metadata": {},
   "outputs": [],
   "source": [
    "from sklearn.datasets import make_classification\n",
    "from sklearn.metrics import classification_report\n",
    "from sklearn.model_selection import train_test_split\n",
    "RANDOM_STATE = 73"
   ]
  },
  {
   "cell_type": "code",
   "execution_count": 34,
   "metadata": {},
   "outputs": [],
   "source": [
    "X, y = make_classification(\n",
    "    n_samples=1000, n_features=20, n_classes=2,\n",
    "    n_informative=4, n_redundant=3, n_repeated=2,\n",
    "    random_state=RANDOM_STATE)\n",
    "\n",
    "X_train, X_test, y_train, y_test = train_test_split(X, y, test_size=0.2, random_state=RANDOM_STATE)"
   ]
  },
  {
   "cell_type": "code",
   "execution_count": 35,
   "metadata": {},
   "outputs": [],
   "source": [
    "!python -m doctest rotation_forest.py "
   ]
  },
  {
   "cell_type": "code",
   "execution_count": 36,
   "metadata": {},
   "outputs": [],
   "source": [
    "from rotation_forest import RotationForest\n",
    "from sklearn.ensemble import RandomForestClassifier"
   ]
  },
  {
   "cell_type": "code",
   "execution_count": 54,
   "metadata": {},
   "outputs": [
    {
     "name": "stdout",
     "output_type": "stream",
     "text": [
      "              precision    recall  f1-score   support\n",
      "\n",
      "           0       0.79      0.87      0.83       102\n",
      "           1       0.85      0.76      0.80        98\n",
      "\n",
      "    accuracy                           0.81       200\n",
      "   macro avg       0.82      0.81      0.81       200\n",
      "weighted avg       0.82      0.81      0.81       200\n",
      "\n"
     ]
    }
   ],
   "source": [
    "rf = RandomForestClassifier(random_state=73).fit(X_train, y_train)\n",
    "print(classification_report(y_test, rf.predict(X_test)))\n"
   ]
  },
  {
   "cell_type": "code",
   "execution_count": 56,
   "metadata": {},
   "outputs": [
    {
     "name": "stdout",
     "output_type": "stream",
     "text": [
      "              precision    recall  f1-score   support\n",
      "\n",
      "           0       0.82      0.87      0.85       102\n",
      "           1       0.86      0.81      0.83        98\n",
      "\n",
      "    accuracy                           0.84       200\n",
      "   macro avg       0.84      0.84      0.84       200\n",
      "weighted avg       0.84      0.84      0.84       200\n",
      "\n"
     ]
    }
   ],
   "source": [
    "rrf = RotationForest(k_features_subsets=10, random_state=73)\n",
    "rrf.fit(X_train, y_train)\n",
    "print(classification_report(y_test, rrf.predict(X_test)))"
   ]
  },
  {
   "cell_type": "markdown",
   "metadata": {},
   "source": [
    "### 2.2 График"
   ]
  },
  {
   "cell_type": "code",
   "execution_count": 60,
   "metadata": {},
   "outputs": [],
   "source": [
    "import matplotlib.pyplot as plt\n",
    "from matplotlib.colors import ListedColormap\n",
    "import seaborn as sns\n",
    "import numpy as np\n",
    "\n",
    "sns.set_style('whitegrid')\n",
    "sns.set_palette('Dark2')\n",
    "\n",
    "cm_piyg = plt.cm.PiYG\n",
    "cm_bright = ListedColormap([\"#b30065\", \"#178000\"])\n",
    "\n",
    "def separating_surface(X, y, model, h=0.2):\n",
    "    if X.shape[1] != 2:\n",
    "        raise ValueError(\"X must has dim == (N, 2)\")\n",
    "    X1_min, X1_max = X[:, 0].min()-1, X[:, 0].max()+1\n",
    "    X2_min, X2_max = X[:, 1].min()-1, X[:, 1].max()+1   \n",
    "    X1, X2 = np.meshgrid(np.arange(X1_min, X1_max, h), np.arange(X2_min, X2_max, h))\n",
    "    \n",
    "    # flatten each grid to a vector\n",
    "    X1_flatten, X2_flatten = X1.flatten(), X2.flatten()\n",
    "    X1_reshaped, X2_reshaped = X1_flatten.reshape((len(X1_flatten), 1)), X2_flatten.reshape((len(X2_flatten), 1))\n",
    "    grid = np.hstack((X1_reshaped,X2_reshaped))\n",
    "    \n",
    "    # split and trainint\n",
    "    X_train, X_test, y_train, y_test = train_test_split(X, y, test_size=0.5, random_state=73)\n",
    "    model.fit(X_train, y_train)\n",
    "    score = model.score(X_test, y_test)\n",
    "    \n",
    "    Z = model.predict_proba(grid)[:,1]\n",
    "    Z = Z.reshape(X1.shape)\n",
    "    \n",
    "    c = plt.contourf(X1, X2, Z, cmap=cm_piyg, alpha=0.8)\n",
    "    plt.colorbar(c)\n",
    "    \n",
    "    # plot the training points\n",
    "    plt.scatter(\n",
    "        X_train[:, 0], X_train[:, 1], c=y_train, cmap=cm_bright, edgecolors=\"w\"\n",
    "    )\n",
    "    # and testing points\n",
    "    plt.scatter(\n",
    "        X_test[:, 0],\n",
    "        X_test[:, 1],\n",
    "        c=y_test,\n",
    "        cmap=cm_bright,\n",
    "        edgecolors=\"w\",\n",
    "        alpha=0.6,\n",
    "    )\n",
    "    ax = plt.gca()\n",
    "    ax.text(\n",
    "            0.95, 0.06,\n",
    "            (f\"{score:.2f}\").lstrip(\"0\"),\n",
    "            size=15,\n",
    "            bbox=dict(boxstyle=\"round\", alpha=0.8, facecolor=\"white\"),\n",
    "            horizontalalignment=\"right\",\n",
    "            transform=ax.transAxes\n",
    "        )\n",
    "    \n",
    "    plt.tight_layout()\n",
    "    ax.text(\n",
    "        0.5, 1.05,\n",
    "        model.__class__.__name__,\n",
    "        horizontalalignment=\"center\",\n",
    "        size=\"x-large\",\n",
    "        transform=ax.transAxes\n",
    "    )\n",
    "    \n",
    "    plt.legend([],[], frameon=False)"
   ]
  },
  {
   "cell_type": "code",
   "execution_count": 61,
   "metadata": {},
   "outputs": [],
   "source": [
    "from sklearn.ensemble import RandomForestClassifier\n",
    "from rotation_forest import RotationForest\n",
    "from sklearn.datasets import make_circles\n",
    "\n",
    "X, y = make_circles(n_samples=100, noise=0.2, factor=0.5, random_state=0)\n"
   ]
  },
  {
   "cell_type": "code",
   "execution_count": 62,
   "metadata": {},
   "outputs": [
    {
     "data": {
      "image/png": "[encoded data removed]",
      "text/plain": [
       "<Figure size 432x288 with 2 Axes>"
      ]
     },
     "metadata": {},
     "output_type": "display_data"
    }
   ],
   "source": [
    "separating_surface(X, y, RandomForestClassifier(random_state=73))"
   ]
  },
  {
   "cell_type": "code",
   "execution_count": 66,
   "metadata": {},
   "outputs": [
    {
     "data": {
      "image/png": "[encoded data removed]",
      "text/plain": [
       "<Figure size 432x288 with 2 Axes>"
      ]
     },
     "metadata": {},
     "output_type": "display_data"
    }
   ],
   "source": [
    "separating_surface(X, y, RotationForest(k_features_subsets=1, random_state=73))"
   ]
  },
  {
   "cell_type": "markdown",
   "metadata": {},
   "source": [
    "# 3. sMAPE "
   ]
  },
  {
   "cell_type": "code",
   "execution_count": 68,
   "metadata": {},
   "outputs": [],
   "source": [
    "def smape(y_true: np.ndarray, y_pred: np.ndarray):\n",
    "    return np.mean(2*np.abs(y_pred - y_true)/(np.abs(y_true) + np.abs(y_pred)))\n",
    "\n",
    "# как я понял, ошибка в том, что при нулевых векторах y_true и y_pred метрика возвращает ошибку\n",
    "def smape2(y_true: np.ndarray, y_pred: np.ndarray):\n",
    "    if np.allclose(y_true, y_pred, np.zeros((y_true.shape))):\n",
    "        return 0.0\n",
    "    return smape(y_true, y_pred)"
   ]
  },
  {
   "cell_type": "code",
   "execution_count": 69,
   "metadata": {},
   "outputs": [],
   "source": [
    "# нулевые вектора\n",
    "y_true_z = np.zeros((10))\n",
    "y_pred_z = y_true_z\n",
    "\n",
    "# пример из задачи\n",
    "y_true = np.array([0.5])\n",
    "y_pred = np.array([50])"
   ]
  },
  {
   "cell_type": "markdown",
   "metadata": {},
   "source": [
    "Поделим на два для интерпретируемости"
   ]
  },
  {
   "cell_type": "code",
   "execution_count": 70,
   "metadata": {},
   "outputs": [
    {
     "name": "stdout",
     "output_type": "stream",
     "text": [
      "Zeros = 0.0\n",
      "0.5 and 50 = 0.98\n"
     ]
    }
   ],
   "source": [
    "print(f\"Zeros = {smape2(y_true_z, y_pred_z)/2}\")\n",
    "print(f\"0.5 and 50 = {smape2(y_true, y_pred)/2:.2f}\")"
   ]
  },
  {
   "cell_type": "markdown",
   "metadata": {},
   "source": [
    "Напишем тест для проверки метрики на ошибку."
   ]
  },
  {
   "cell_type": "code",
   "execution_count": 71,
   "metadata": {},
   "outputs": [],
   "source": [
    "from typing import Callable\n",
    "def test_zeros(metric: Callable):\n",
    "    y_true = np.zeros((10))\n",
    "    y_pred = np.zeros((10))\n",
    "    assert metric(y_true, y_pred) == 0, \"Metric must return 0!\""
   ]
  },
  {
   "cell_type": "code",
   "execution_count": 73,
   "metadata": {},
   "outputs": [
    {
     "ename": "AssertionError",
     "evalue": "Metric must return 0!",
     "output_type": "error",
     "traceback": [
      "\u001b[0;31m---------------------------------------------------------------------------\u001b[0m",
      "\u001b[0;31mAssertionError\u001b[0m                            Traceback (most recent call last)",
      "\u001b[1;32m/Users/pavelkockin/main/karpov-courses-test-tasks/solutions.ipynb Cell 28'\u001b[0m in \u001b[0;36m<cell line: 1>\u001b[0;34m()\u001b[0m\n\u001b[0;32m----> <a href='vscode-notebook-cell:/Users/pavelkockin/main/karpov-courses-test-tasks/solutions.ipynb#ch0000049?line=0'>1</a>\u001b[0m test_zeros(smape)\n",
      "\u001b[1;32m/Users/pavelkockin/main/karpov-courses-test-tasks/solutions.ipynb Cell 27'\u001b[0m in \u001b[0;36mtest_zeros\u001b[0;34m(metric)\u001b[0m\n\u001b[1;32m      <a href='vscode-notebook-cell:/Users/pavelkockin/main/karpov-courses-test-tasks/solutions.ipynb#ch0000024?line=2'>3</a>\u001b[0m y_true \u001b[39m=\u001b[39m np\u001b[39m.\u001b[39mzeros((\u001b[39m10\u001b[39m))\n\u001b[1;32m      <a href='vscode-notebook-cell:/Users/pavelkockin/main/karpov-courses-test-tasks/solutions.ipynb#ch0000024?line=3'>4</a>\u001b[0m y_pred \u001b[39m=\u001b[39m np\u001b[39m.\u001b[39mzeros((\u001b[39m10\u001b[39m))\n\u001b[0;32m----> <a href='vscode-notebook-cell:/Users/pavelkockin/main/karpov-courses-test-tasks/solutions.ipynb#ch0000024?line=4'>5</a>\u001b[0m \u001b[39massert\u001b[39;00m metric(y_true, y_pred) \u001b[39m==\u001b[39m \u001b[39m0\u001b[39m, \u001b[39m\"\u001b[39m\u001b[39mMetric must return 0!\u001b[39m\u001b[39m\"\u001b[39m\n",
      "\u001b[0;31mAssertionError\u001b[0m: Metric must return 0!"
     ]
    }
   ],
   "source": [
    "test_zeros(smape)"
   ]
  },
  {
   "cell_type": "code",
   "execution_count": 72,
   "metadata": {},
   "outputs": [],
   "source": [
    "test_zeros(smape2)"
   ]
  },
  {
   "cell_type": "markdown",
   "metadata": {},
   "source": [
    "# 4. Re"
   ]
  },
  {
   "cell_type": "code",
   "execution_count": 74,
   "metadata": {},
   "outputs": [],
   "source": [
    "import pandas as pd\n",
    "import numpy as np\n",
    "import string    \n",
    "import random\n",
    "import re\n",
    "import functools\n",
    " \n",
    "\n",
    "def series_of_ids(n_symbols: int, n_rows: int) -> pd.Series:\n",
    "    x = pd.Series([\n",
    "        \"\".join(random.choices(string.ascii_lowercase + string.digits, k=n_symbols)) \n",
    "        for _ in range(n_rows)\n",
    "    ])\n",
    "    return x"
   ]
  },
  {
   "cell_type": "markdown",
   "metadata": {},
   "source": [
    "Напишу декоратор для вычисления среднего времени работы функций"
   ]
  },
  {
   "cell_type": "code",
   "execution_count": 75,
   "metadata": {},
   "outputs": [],
   "source": [
    "from time import perf_counter\n",
    "\n",
    "class timeit:\n",
    "    def __init__(self, N: int):\n",
    "        self.N = N\n",
    "\n",
    "    def __call__(self, func: Callable):\n",
    "        @functools.wraps(func)\n",
    "        def wrapper(*args, **kwargs):\n",
    "            times = []\n",
    "            for _ in range(self.N):\n",
    "                start = perf_counter()\n",
    "                result = func(*args, **kwargs)\n",
    "                end = perf_counter() - start\n",
    "                times.append(end)\n",
    "            wrapper.mean_time = sum(times) / self.N\n",
    "            return result\n",
    "        wrapper.mean_time = 0.0\n",
    "        return wrapper"
   ]
  },
  {
   "cell_type": "markdown",
   "metadata": {},
   "source": [
    "Сгенерируем данные для проверки"
   ]
  },
  {
   "cell_type": "code",
   "execution_count": 76,
   "metadata": {},
   "outputs": [],
   "source": [
    "idxs = series_of_ids(10, 100000)"
   ]
  },
  {
   "cell_type": "code",
   "execution_count": 77,
   "metadata": {},
   "outputs": [],
   "source": [
    "@timeit(10)\n",
    "def chars_and_digits(x: pd.Series) -> pd.Series:\n",
    "    y = x.apply(lambda s: re.sub(r\"[^a-z]\", \"\", s) + re.sub(r\"[^\\d]\", \"\", s))\n",
    "    return y"
   ]
  },
  {
   "cell_type": "code",
   "execution_count": 78,
   "metadata": {},
   "outputs": [],
   "source": [
    "@timeit(10)\n",
    "def speedy_chars_and_digits(x: pd.Series) -> pd.Series:\n",
    "    ascii_lowercase_pattern = re.compile(r'[a-z]')\n",
    "    digits_pattern = re.compile(r'[0-9]')\n",
    "    y = x.apply(\n",
    "        lambda s: \n",
    "            \"\".join(ascii_lowercase_pattern.findall(s) + digits_pattern.findall(s))\n",
    "    )\n",
    "    return y"
   ]
  },
  {
   "cell_type": "code",
   "execution_count": 80,
   "metadata": {},
   "outputs": [
    {
     "data": {
      "text/plain": [
       "True"
      ]
     },
     "execution_count": 80,
     "metadata": {},
     "output_type": "execute_result"
    }
   ],
   "source": [
    "a = chars_and_digits(idxs)\n",
    "b = speedy_chars_and_digits(idxs)\n",
    "\n",
    "# проверим одинаковы ли ответы с исходной фукнцией\n",
    "np.array_equal(a, b)"
   ]
  },
  {
   "cell_type": "code",
   "execution_count": 81,
   "metadata": {},
   "outputs": [
    {
     "name": "stdout",
     "output_type": "stream",
     "text": [
      "Speed improvement by 1.90 times.\n"
     ]
    }
   ],
   "source": [
    "print(f\"Speed improvement by {chars_and_digits.mean_time/speedy_chars_and_digits.mean_time:.2f} times.\")"
   ]
  },
  {
   "cell_type": "markdown",
   "metadata": {},
   "source": [
    "# 5. Similar Items Price"
   ]
  },
  {
   "cell_type": "code",
   "execution_count": 82,
   "metadata": {},
   "outputs": [],
   "source": [
    "import pandas as pd\n",
    "import numpy as np\n",
    "from sklearn.datasets import make_regression\n",
    "from sklearn.model_selection import train_test_split\n",
    "import seaborn as sns "
   ]
  },
  {
   "cell_type": "markdown",
   "metadata": {},
   "source": [
    "Сгенерируем датасет для задания"
   ]
  },
  {
   "cell_type": "code",
   "execution_count": 90,
   "metadata": {},
   "outputs": [
    {
     "data": {
      "text/html": [
       "<div>\n",
       "<style scoped>\n",
       "    .dataframe tbody tr th:only-of-type {\n",
       "        vertical-align: middle;\n",
       "    }\n",
       "\n",
       "    .dataframe tbody tr th {\n",
       "        vertical-align: top;\n",
       "    }\n",
       "\n",
       "    .dataframe thead th {\n",
       "        text-align: right;\n",
       "    }\n",
       "</style>\n",
       "<table border=\"1\" class=\"dataframe\">\n",
       "  <thead>\n",
       "    <tr style=\"text-align: right;\">\n",
       "      <th></th>\n",
       "      <th>price</th>\n",
       "      <th>embedding</th>\n",
       "    </tr>\n",
       "  </thead>\n",
       "  <tbody>\n",
       "    <tr>\n",
       "      <th>0</th>\n",
       "      <td>-41.844367</td>\n",
       "      <td>[0.05111028821296957, -0.7670158101005915, -0....</td>\n",
       "    </tr>\n",
       "    <tr>\n",
       "      <th>1</th>\n",
       "      <td>129.704442</td>\n",
       "      <td>[-0.8503086533614014, 0.8458478044894611, 0.01...</td>\n",
       "    </tr>\n",
       "    <tr>\n",
       "      <th>2</th>\n",
       "      <td>-134.742814</td>\n",
       "      <td>[-0.6157823564003732, 0.8909127330874315, -1.6...</td>\n",
       "    </tr>\n",
       "    <tr>\n",
       "      <th>3</th>\n",
       "      <td>-43.621579</td>\n",
       "      <td>[0.3750086830218457, 0.7938929238650917, -1.21...</td>\n",
       "    </tr>\n",
       "    <tr>\n",
       "      <th>4</th>\n",
       "      <td>-99.953632</td>\n",
       "      <td>[-1.099633942558361, -0.08063667250496473, -1....</td>\n",
       "    </tr>\n",
       "  </tbody>\n",
       "</table>\n",
       "</div>"
      ],
      "text/plain": [
       "        price                                          embedding\n",
       "0  -41.844367  [0.05111028821296957, -0.7670158101005915, -0....\n",
       "1  129.704442  [-0.8503086533614014, 0.8458478044894611, 0.01...\n",
       "2 -134.742814  [-0.6157823564003732, 0.8909127330874315, -1.6...\n",
       "3  -43.621579  [0.3750086830218457, 0.7938929238650917, -1.21...\n",
       "4  -99.953632  [-1.099633942558361, -0.08063667250496473, -1...."
      ]
     },
     "execution_count": 90,
     "metadata": {},
     "output_type": "execute_result"
    }
   ],
   "source": [
    "X, y = make_regression(n_samples=1000, n_features=10, n_informative=10, n_targets=1, noise=0.2)\n",
    "df = pd.DataFrame({\n",
    "    'price': y, \n",
    "    'embedding': tuple(X)\n",
    "})\n",
    "df.head()"
   ]
  },
  {
   "cell_type": "code",
   "execution_count": 91,
   "metadata": {},
   "outputs": [
    {
     "name": "stdout",
     "output_type": "stream",
     "text": [
      "NotNAN prices: 800\n"
     ]
    }
   ],
   "source": [
    "# отметить nan 0.2 от выборки\n",
    "negative_samples = sorted(np.random.choice(df.shape[0], size=200, replace=False))\n",
    "X_before = df.iloc[negative_samples].copy()\n",
    "df.loc[negative_samples, 'price'] = np.nan\n",
    "\n",
    "print(f\"NotNAN prices: {df.notna()['price'].sum()}\")"
   ]
  },
  {
   "cell_type": "code",
   "execution_count": 92,
   "metadata": {},
   "outputs": [],
   "source": [
    "from sklearn.neighbors import KNeighborsRegressor\n",
    "\n",
    "def neighbors_price(X: pd.DataFrame, n_neighbors: int = 5) -> pd.DataFrame:\n",
    "    X = X.copy()\n",
    "    \n",
    "    X_train = X.loc[X[\"price\"].notna()]\n",
    "    X_nan_idx = X.loc[X['price'].isna()].index\n",
    "    \n",
    "    X_train_array = X_train['embedding'].values\n",
    "    X_train_array = np.stack(X_train_array, axis=0)\n",
    "    \n",
    "    X_test_array = np.stack(X['embedding'].values, axis=0)\n",
    "    y_train = X_train['price']\n",
    "    \n",
    "    knn = KNeighborsRegressor(n_neighbors=n_neighbors)\n",
    "    \n",
    "    knn.fit(X_train_array, y_train)\n",
    "    print(knn.score(X_train_array, y_train))\n",
    "    \n",
    "    y_pred = knn.predict(X_test_array) \n",
    "    y_pred_ser = pd.Series(y_pred[X_nan_idx], index = X_nan_idx)   \n",
    "    \n",
    "    X['knn_price'] = y_pred\n",
    "    X['new_price'] = X['price'].fillna(y_pred_ser)\n",
    "    \n",
    "    return X"
   ]
  },
  {
   "cell_type": "code",
   "execution_count": 93,
   "metadata": {},
   "outputs": [
    {
     "name": "stdout",
     "output_type": "stream",
     "text": [
      "0.8683865620549335\n"
     ]
    }
   ],
   "source": [
    "df_after = neighbors_price(df, n_neighbors=5)"
   ]
  },
  {
   "cell_type": "code",
   "execution_count": 94,
   "metadata": {},
   "outputs": [
    {
     "data": {
      "text/plain": [
       "0.7812246705707228"
      ]
     },
     "execution_count": 94,
     "metadata": {},
     "output_type": "execute_result"
    }
   ],
   "source": [
    "from sklearn.metrics import r2_score\n",
    "\n",
    "r2_score(X_before['price'], df_after['new_price'][negative_samples])"
   ]
  },
  {
   "cell_type": "code",
   "execution_count": 95,
   "metadata": {},
   "outputs": [
    {
     "data": {
      "text/html": [
       "<div>\n",
       "<style scoped>\n",
       "    .dataframe tbody tr th:only-of-type {\n",
       "        vertical-align: middle;\n",
       "    }\n",
       "\n",
       "    .dataframe tbody tr th {\n",
       "        vertical-align: top;\n",
       "    }\n",
       "\n",
       "    .dataframe thead th {\n",
       "        text-align: right;\n",
       "    }\n",
       "</style>\n",
       "<table border=\"1\" class=\"dataframe\">\n",
       "  <thead>\n",
       "    <tr style=\"text-align: right;\">\n",
       "      <th></th>\n",
       "      <th>price</th>\n",
       "      <th>embedding</th>\n",
       "      <th>knn_price</th>\n",
       "      <th>new_price</th>\n",
       "    </tr>\n",
       "  </thead>\n",
       "  <tbody>\n",
       "    <tr>\n",
       "      <th>0</th>\n",
       "      <td>-41.844367</td>\n",
       "      <td>[0.05111028821296957, -0.7670158101005915, -0....</td>\n",
       "      <td>-92.715602</td>\n",
       "      <td>-41.844367</td>\n",
       "    </tr>\n",
       "    <tr>\n",
       "      <th>1</th>\n",
       "      <td>129.704442</td>\n",
       "      <td>[-0.8503086533614014, 0.8458478044894611, 0.01...</td>\n",
       "      <td>77.228923</td>\n",
       "      <td>129.704442</td>\n",
       "    </tr>\n",
       "    <tr>\n",
       "      <th>2</th>\n",
       "      <td>-134.742814</td>\n",
       "      <td>[-0.6157823564003732, 0.8909127330874315, -1.6...</td>\n",
       "      <td>-77.151621</td>\n",
       "      <td>-134.742814</td>\n",
       "    </tr>\n",
       "    <tr>\n",
       "      <th>3</th>\n",
       "      <td>-43.621579</td>\n",
       "      <td>[0.3750086830218457, 0.7938929238650917, -1.21...</td>\n",
       "      <td>-6.100057</td>\n",
       "      <td>-43.621579</td>\n",
       "    </tr>\n",
       "    <tr>\n",
       "      <th>4</th>\n",
       "      <td>NaN</td>\n",
       "      <td>[-1.099633942558361, -0.08063667250496473, -1....</td>\n",
       "      <td>-86.703363</td>\n",
       "      <td>-86.703363</td>\n",
       "    </tr>\n",
       "  </tbody>\n",
       "</table>\n",
       "</div>"
      ],
      "text/plain": [
       "        price                                          embedding  knn_price  \\\n",
       "0  -41.844367  [0.05111028821296957, -0.7670158101005915, -0.... -92.715602   \n",
       "1  129.704442  [-0.8503086533614014, 0.8458478044894611, 0.01...  77.228923   \n",
       "2 -134.742814  [-0.6157823564003732, 0.8909127330874315, -1.6... -77.151621   \n",
       "3  -43.621579  [0.3750086830218457, 0.7938929238650917, -1.21...  -6.100057   \n",
       "4         NaN  [-1.099633942558361, -0.08063667250496473, -1.... -86.703363   \n",
       "\n",
       "    new_price  \n",
       "0  -41.844367  \n",
       "1  129.704442  \n",
       "2 -134.742814  \n",
       "3  -43.621579  \n",
       "4  -86.703363  "
      ]
     },
     "execution_count": 95,
     "metadata": {},
     "output_type": "execute_result"
    }
   ],
   "source": [
    "df_after.head()"
   ]
  },
  {
   "cell_type": "markdown",
   "metadata": {},
   "source": [
    "# 6. Stocks"
   ]
  },
  {
   "cell_type": "code",
   "execution_count": 96,
   "metadata": {},
   "outputs": [
    {
     "data": {
      "text/html": [
       "<div>\n",
       "<style scoped>\n",
       "    .dataframe tbody tr th:only-of-type {\n",
       "        vertical-align: middle;\n",
       "    }\n",
       "\n",
       "    .dataframe tbody tr th {\n",
       "        vertical-align: top;\n",
       "    }\n",
       "\n",
       "    .dataframe thead th {\n",
       "        text-align: right;\n",
       "    }\n",
       "</style>\n",
       "<table border=\"1\" class=\"dataframe\">\n",
       "  <thead>\n",
       "    <tr style=\"text-align: right;\">\n",
       "      <th></th>\n",
       "      <th>sku</th>\n",
       "      <th>gmv</th>\n",
       "      <th>price</th>\n",
       "      <th>stock</th>\n",
       "    </tr>\n",
       "  </thead>\n",
       "  <tbody>\n",
       "    <tr>\n",
       "      <th>0</th>\n",
       "      <td>100</td>\n",
       "      <td>400</td>\n",
       "      <td>100</td>\n",
       "      <td>3</td>\n",
       "    </tr>\n",
       "    <tr>\n",
       "      <th>1</th>\n",
       "      <td>200</td>\n",
       "      <td>350</td>\n",
       "      <td>70</td>\n",
       "      <td>10</td>\n",
       "    </tr>\n",
       "    <tr>\n",
       "      <th>2</th>\n",
       "      <td>300</td>\n",
       "      <td>500</td>\n",
       "      <td>120</td>\n",
       "      <td>4</td>\n",
       "    </tr>\n",
       "  </tbody>\n",
       "</table>\n",
       "</div>"
      ],
      "text/plain": [
       "   sku  gmv  price  stock\n",
       "0  100  400    100      3\n",
       "1  200  350     70     10\n",
       "2  300  500    120      4"
      ]
     },
     "execution_count": 96,
     "metadata": {},
     "output_type": "execute_result"
    }
   ],
   "source": [
    "data = pd.DataFrame({\n",
    "    'sku': [100, 200, 300],\n",
    "    'gmv': [400, 350, 500],\n",
    "    'price': [100, 70, 120],\n",
    "    'stock': [3, 10, 4]\n",
    "})\n",
    "data"
   ]
  },
  {
   "cell_type": "code",
   "execution_count": 97,
   "metadata": {},
   "outputs": [
    {
     "data": {
      "text/html": [
       "<div>\n",
       "<style scoped>\n",
       "    .dataframe tbody tr th:only-of-type {\n",
       "        vertical-align: middle;\n",
       "    }\n",
       "\n",
       "    .dataframe tbody tr th {\n",
       "        vertical-align: top;\n",
       "    }\n",
       "\n",
       "    .dataframe thead th {\n",
       "        text-align: right;\n",
       "    }\n",
       "</style>\n",
       "<table border=\"1\" class=\"dataframe\">\n",
       "  <thead>\n",
       "    <tr style=\"text-align: right;\">\n",
       "      <th></th>\n",
       "      <th>sku</th>\n",
       "      <th>gmv</th>\n",
       "      <th>price</th>\n",
       "      <th>stock</th>\n",
       "    </tr>\n",
       "  </thead>\n",
       "  <tbody>\n",
       "    <tr>\n",
       "      <th>0</th>\n",
       "      <td>100</td>\n",
       "      <td>300</td>\n",
       "      <td>100</td>\n",
       "      <td>3</td>\n",
       "    </tr>\n",
       "    <tr>\n",
       "      <th>1</th>\n",
       "      <td>200</td>\n",
       "      <td>350</td>\n",
       "      <td>70</td>\n",
       "      <td>10</td>\n",
       "    </tr>\n",
       "    <tr>\n",
       "      <th>2</th>\n",
       "      <td>300</td>\n",
       "      <td>480</td>\n",
       "      <td>120</td>\n",
       "      <td>4</td>\n",
       "    </tr>\n",
       "  </tbody>\n",
       "</table>\n",
       "</div>"
      ],
      "text/plain": [
       "   sku  gmv  price  stock\n",
       "0  100  300    100      3\n",
       "1  200  350     70     10\n",
       "2  300  480    120      4"
      ]
     },
     "execution_count": 97,
     "metadata": {},
     "output_type": "execute_result"
    }
   ],
   "source": [
    "def postproc(x: pd.Series) -> pd.Series:\n",
    "    gmv_pred = x['stock'] * x['price']\n",
    "    gmv_true = gmv_pred if gmv_pred <= x['gmv'] else x['gmv']\n",
    "    x['gmv'] = gmv_true\n",
    "\n",
    "def limit_gmv(df: pd.DataFrame) -> pd.DataFrame:\n",
    "    df = df.copy()\n",
    "    df.apply(lambda x: postproc(x), axis=1)\n",
    "    return df\n",
    "\n",
    "limit_gmv(data)"
   ]
  }
 ],
 "metadata": {
  "kernelspec": {
   "display_name": "Python 3.8.12 ('ml_env')",
   "language": "python",
   "name": "python3"
  },
  "language_info": {
   "codemirror_mode": {
    "name": "ipython",
    "version": 3
   },
   "file_extension": ".py",
   "mimetype": "text/x-python",
   "name": "python",
   "nbconvert_exporter": "python",
   "pygments_lexer": "ipython3",
   "version": "3.8.12"
  },
  "orig_nbformat": 4,
  "vscode": {
   "interpreter": {
    "hash": "d8f5a8577b8cf413169496226e4485bf91d05ebdcdf9e1588db361085a732ed9"
   }
  }
 },
 "nbformat": 4,
 "nbformat_minor": 2
}
